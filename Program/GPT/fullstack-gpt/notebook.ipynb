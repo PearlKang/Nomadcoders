{
 "cells": [
  {
   "cell_type": "code",
   "execution_count": 31,
   "metadata": {},
   "outputs": [],
   "source": [
    "from langchain.chat_models import ChatOpenAI\n",
    "from langchain.prompts import ChatPromptTemplate\n",
    "from langchain.callbacks import StreamingStdOutCallbackHandler\n",
    "\n",
    "chat = ChatOpenAI(\n",
    "    temperature=0.1,\n",
    "    streaming=True,\n",
    "    callbacks=[StreamingStdOutCallbackHandler()],\n",
    ")\n",
    "\n",
    "chef_prompt = ChatPromptTemplate.from_messages([\n",
    "    (\"system\", \"You are a world-class international chef. You create easy to follow recipies for any type of cuisine with easy to find ingredients.\"),\n",
    "    (\"human\", \"I want to cook {cuisine} food.\"),\n",
    "])\n",
    "\n",
    "chef_chain = chef_prompt | chat"
   ]
  },
  {
   "cell_type": "code",
   "execution_count": 32,
   "metadata": {},
   "outputs": [
    {
     "name": "stdout",
     "output_type": "stream",
     "text": [
      "Great choice! Indian cuisine is known for its bold flavors and aromatic spices. Let's start with a classic recipe for Chicken Tikka Masala, a popular dish loved by many. Here's a simple recipe for you to try at home:\n",
      "\n",
      "Ingredients:\n",
      "- 1 lb boneless, skinless chicken breasts, cut into bite-sized pieces\n",
      "- 1 cup plain yogurt\n",
      "- 2 tablespoons lemon juice\n",
      "- 2 teaspoons ground cumin\n",
      "- 2 teaspoons paprika\n",
      "- 1 teaspoon ground turmeric\n",
      "- 1 teaspoon garam masala\n",
      "- 1 teaspoon ground coriander\n",
      "- 1 teaspoon chili powder (adjust to taste)\n",
      "- 3 cloves garlic, minced\n",
      "- 1 tablespoon grated fresh ginger\n",
      "- Salt and pepper to taste\n",
      "- 2 tablespoons vegetable oil\n",
      "- 1 onion, finely chopped\n",
      "- 1 can (14 oz) tomato sauce\n",
      "- 1 cup heavy cream\n",
      "- Fresh cilantro, chopped (for garnish)\n",
      "- Cooked rice or naan bread (to serve)\n",
      "\n",
      "Instructions:\n",
      "1. In a bowl, combine the yogurt, lemon juice, cumin, paprika, turmeric, garam masala, coriander, chili powder, garlic, ginger, salt, and pepper. Add the chicken pieces and mix well to coat. Cover and marinate in the refrigerator for at least 1 hour, or overnight for best results.\n",
      "\n",
      "2. In a large skillet or pan, heat the vegetable oil over medium-high heat. Add the chopped onion and cook until softened and translucent.\n",
      "\n",
      "3. Add the marinated chicken pieces to the skillet, along with any remaining marinade. Cook for about 5-7 minutes, stirring occasionally, until the chicken is browned on all sides.\n",
      "\n",
      "4. Stir in the tomato sauce and bring the mixture to a simmer. Reduce the heat to low, cover, and let it cook for about 15-20 minutes, or until the chicken is cooked through.\n",
      "\n",
      "5. Stir in the heavy cream and simmer for an additional 5 minutes, stirring occasionally.\n",
      "\n",
      "6. Taste and adjust the seasoning with salt and pepper if needed.\n",
      "\n",
      "7. Serve the Chicken Tikka Masala hot over cooked rice or with naan bread. Garnish with chopped fresh cilantro.\n",
      "\n",
      "Enjoy your homemade Chicken Tikka Masala with its rich and creamy sauce, perfect for dipping your naan bread or drizzling over rice. Feel free to adjust the spice levels to suit your taste preferences. Happy cooking!For a vegetarian version of Chicken Tikka Masala, you can easily substitute the chicken with a plant-based alternative such as tofu or paneer. Here's how you can prepare these alternatives for the recipe:\n",
      "\n",
      "1. **Tofu**: \n",
      "   - Use firm or extra-firm tofu for this recipe. Press the tofu to remove excess water by wrapping it in a clean kitchen towel or paper towels and placing a heavy object on top for about 15-20 minutes.\n",
      "   - Cut the tofu into bite-sized cubes and follow the same marinating process as you would with chicken. Tofu absorbs flavors well, so the marination will infuse it with the spices and yogurt mixture.\n",
      "   - When cooking the tofu in the skillet, be gentle when stirring to avoid breaking the cubes. Cook until the tofu is lightly browned on the sides.\n",
      "\n",
      "2. **Paneer**:\n",
      "   - Paneer is a traditional Indian cheese that holds its shape well when cooked. You can find it in Indian grocery stores or make it at home by curdling hot milk with lemon juice or vinegar.\n",
      "   - Cut the paneer into cubes and follow the marinating process as you would with chicken. Paneer is a great protein source and will soak up the flavors of the spices and yogurt.\n",
      "   - When cooking the paneer in the skillet, handle it gently to prevent it from crumbling. Cook until the paneer is slightly browned on the edges.\n",
      "\n",
      "By using tofu or paneer as a substitute for chicken, you can enjoy a flavorful and satisfying vegetarian version of Chicken Tikka Masala. Serve it with rice or naan bread for a delicious meal that captures the essence of this classic Indian dish."
     ]
    },
    {
     "data": {
      "text/plain": [
       "AIMessageChunk(content=\"For a vegetarian version of Chicken Tikka Masala, you can easily substitute the chicken with a plant-based alternative such as tofu or paneer. Here's how you can prepare these alternatives for the recipe:\\n\\n1. **Tofu**: \\n   - Use firm or extra-firm tofu for this recipe. Press the tofu to remove excess water by wrapping it in a clean kitchen towel or paper towels and placing a heavy object on top for about 15-20 minutes.\\n   - Cut the tofu into bite-sized cubes and follow the same marinating process as you would with chicken. Tofu absorbs flavors well, so the marination will infuse it with the spices and yogurt mixture.\\n   - When cooking the tofu in the skillet, be gentle when stirring to avoid breaking the cubes. Cook until the tofu is lightly browned on the sides.\\n\\n2. **Paneer**:\\n   - Paneer is a traditional Indian cheese that holds its shape well when cooked. You can find it in Indian grocery stores or make it at home by curdling hot milk with lemon juice or vinegar.\\n   - Cut the paneer into cubes and follow the marinating process as you would with chicken. Paneer is a great protein source and will soak up the flavors of the spices and yogurt.\\n   - When cooking the paneer in the skillet, handle it gently to prevent it from crumbling. Cook until the paneer is slightly browned on the edges.\\n\\nBy using tofu or paneer as a substitute for chicken, you can enjoy a flavorful and satisfying vegetarian version of Chicken Tikka Masala. Serve it with rice or naan bread for a delicious meal that captures the essence of this classic Indian dish.\")"
      ]
     },
     "execution_count": 32,
     "metadata": {},
     "output_type": "execute_result"
    }
   ],
   "source": [
    "veg_chef_prompt = ChatPromptTemplate.from_messages([\n",
    "    (\"system\", \"You are a vegetarian chef specialized on making traditional recipies vegetarian. You find alternative ingredients and explain their preparation. You don't radically modify the recipe. If there is no alternative for a food just say you don't know how to replace it.\"),\n",
    "    (\"human\", \"{recipe}\"),\n",
    "])\n",
    "\n",
    "veg_chain = veg_chef_prompt | chat\n",
    "\n",
    "fianl_chain = {\"recipe\": chef_chain} | veg_chain\n",
    "\n",
    "fianl_chain.invoke({\n",
    "    \"cuisine\": \"indian\",\n",
    "})"
   ]
  }
 ],
 "metadata": {
  "kernelspec": {
   "display_name": "Python 3.10.8 ('env': venv)",
   "language": "python",
   "name": "python3"
  },
  "language_info": {
   "codemirror_mode": {
    "name": "ipython",
    "version": 3
   },
   "file_extension": ".py",
   "mimetype": "text/x-python",
   "name": "python",
   "nbconvert_exporter": "python",
   "pygments_lexer": "ipython3",
   "version": "3.10.8"
  },
  "orig_nbformat": 4,
  "vscode": {
   "interpreter": {
    "hash": "87af29c83299b8411b285c9748d1fce99c27f076b69980a17672a4e8ebfd8c88"
   }
  }
 },
 "nbformat": 4,
 "nbformat_minor": 2
}
