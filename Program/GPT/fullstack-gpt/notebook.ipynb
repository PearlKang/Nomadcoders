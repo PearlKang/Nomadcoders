{
 "cells": [
  {
   "cell_type": "code",
   "execution_count": 1,
   "metadata": {},
   "outputs": [
    {
     "name": "stdout",
     "output_type": "stream",
     "text": [
      "\n",
      "\n",
      "\u001b[1m> Entering new AgentExecutor chain...\u001b[0m\n"
     ]
    },
    {
     "name": "stderr",
     "output_type": "stream",
     "text": [
      "Authentication failed for https://api.smith.langchain.com/runs. HTTPError('401 Client Error: Unauthorized for url: https://api.smith.langchain.com/runs', '{\"detail\":\"Using legacy API key. Please generate a new API key.\"}')\n"
     ]
    },
    {
     "name": "stdout",
     "output_type": "stream",
     "text": [
      "\u001b[32;1m\u001b[1;3mAction: sql_db_list_tables\n",
      "Action Input: \u001b[0m\n",
      "Observation: \u001b[38;5;200m\u001b[1;3mdirectors, movies\u001b[0m\n",
      "Thought:"
     ]
    },
    {
     "name": "stderr",
     "output_type": "stream",
     "text": [
      "Authentication failed for https://api.smith.langchain.com/runs/28ad973d-dc3d-408e-b306-31f46994d871. HTTPError('401 Client Error: Unauthorized for url: https://api.smith.langchain.com/runs/28ad973d-dc3d-408e-b306-31f46994d871', '{\"detail\":\"Using legacy API key. Please generate a new API key.\"}')\n"
     ]
    },
    {
     "name": "stdout",
     "output_type": "stream",
     "text": [
      "\u001b[32;1m\u001b[1;3mI should now query the schema of the directors and movies tables to see what columns I can use to find the highest grossing films.\n",
      "Action: sql_db_schema\n",
      "Action Input: 'directors, movies'\u001b[0m\n",
      "Observation: \u001b[33;1m\u001b[1;3mError: table_names {\"'directors\", \"movies'\"} not found in database\u001b[0m\n",
      "Thought:\u001b[32;1m\u001b[1;3mI made a mistake in the input for the sql_db_schema tool. I need to remove the single quotes around the table names.\n",
      "Action: sql_db_schema\n",
      "Action Input: directors, movies\u001b[0m\n",
      "Observation: \u001b[33;1m\u001b[1;3m\n",
      "CREATE TABLE directors (\n",
      "\tname TEXT, \n",
      "\tid INTEGER, \n",
      "\tgender INTEGER, \n",
      "\tuid INTEGER, \n",
      "\tdepartment TEXT, \n",
      "\tPRIMARY KEY (id)\n",
      ")\n",
      "\n",
      "/*\n",
      "3 rows from directors table:\n",
      "name\tid\tgender\tuid\tdepartment\n",
      "James Cameron\t4762\t2\t2710\tDirecting\n",
      "Gore Verbinski\t4763\t2\t1704\tDirecting\n",
      "Sam Mendes\t4764\t2\t39\tDirecting\n",
      "*/\n",
      "\n",
      "\n",
      "CREATE TABLE movies (\n",
      "\tid INTEGER, \n",
      "\toriginal_title VARCHAR, \n",
      "\tbudget INTEGER, \n",
      "\tpopularity INTEGER, \n",
      "\trelease_date TEXT, \n",
      "\trevenue INTEGER, \n",
      "\ttitle TEXT, \n",
      "\tvote_average REAL, \n",
      "\tvote_count INTEGER, \n",
      "\toverview TEXT, \n",
      "\ttagline TEXT, \n",
      "\tuid INTEGER, \n",
      "\tdirector_id INTEGER DEFAULT 0 NOT NULL, \n",
      "\tPRIMARY KEY (id)\n",
      ")\n",
      "\n",
      "/*\n",
      "3 rows from movies table:\n",
      "id\toriginal_title\tbudget\tpopularity\trelease_date\trevenue\ttitle\tvote_average\tvote_count\toverview\ttagline\tuid\tdirector_id\n",
      "43597\tAvatar\t237000000\t150\t2009-12-10\t2787965087\tAvatar\t7.2\t11800\tIn the 22nd century, a paraplegic Marine is dispatched to the moon Pandora on a unique mission, but \tEnter the World of Pandora.\t19995\t4762\n",
      "43598\tPirates of the Caribbean: At World's End\t300000000\t139\t2007-05-19\t961000000\tPirates of the Caribbean: At World's End\t6.9\t4500\tCaptain Barbossa, long believed to be dead, has come back to life and is headed to the edge of the E\tAt the end of the world, the adventure begins.\t285\t4763\n",
      "43599\tSpectre\t245000000\t107\t2015-10-26\t880674609\tSpectre\t6.3\t4466\tA cryptic message from Bond’s past sends him on a trail to uncover a sinister organization. While M \tA Plan No One Escapes\t206647\t4764\n",
      "*/\u001b[0m\n",
      "Thought:\u001b[32;1m\u001b[1;3mI should query the movies table to get the directors with the highest grossing films.\n",
      "Action: sql_db_query\n",
      "Action Input: SELECT director_id, SUM(revenue) AS total_revenue\n",
      "             FROM movies\n",
      "             GROUP BY director_id\n",
      "             ORDER BY total_revenue DESC\n",
      "             LIMIT 5\u001b[0m\n",
      "Observation: \u001b[36;1m\u001b[1;3m[(4799, 9147393164), (4777, 6498642820), (4762, 5883569439), (4788, 5832524638), (4765, 4227483234)]\u001b[0m\n",
      "Thought:\u001b[32;1m\u001b[1;3mI now know the final answer\n",
      "Final Answer: The 5 directors with the highest grossing films are director_id 4799 with $9,147,393,164, director_id 4777 with $6,498,642,820, director_id 4762 with $5,883,569,439, director_id 4788 with $5,832,524,638, and director_id 4765 with $4,227,483,234.\u001b[0m\n",
      "\n",
      "\u001b[1m> Finished chain.\u001b[0m\n"
     ]
    },
    {
     "data": {
      "text/plain": [
       "{'input': 'Give me the 5 directors that have the highest grossing films.',\n",
       " 'output': 'The 5 directors with the highest grossing films are director_id 4799 with $9,147,393,164, director_id 4777 with $6,498,642,820, director_id 4762 with $5,883,569,439, director_id 4788 with $5,832,524,638, and director_id 4765 with $4,227,483,234.'}"
      ]
     },
     "execution_count": 1,
     "metadata": {},
     "output_type": "execute_result"
    }
   ],
   "source": [
    "from langchain.agents import create_sql_agent, AgentType\n",
    "from langchain.chat_models import ChatOpenAI\n",
    "from langchain.agents.agent_toolkits import SQLDatabaseToolkit\n",
    "from langchain.sql_database import SQLDatabase\n",
    "\n",
    "llm = ChatOpenAI(\n",
    "    temperature=0.1,\n",
    "    model_name=\"gpt-3.5-turbo-1106\",\n",
    ")\n",
    "db = SQLDatabase.from_uri(\"sqlite:///movies.sqlite\")\n",
    "toolkit = SQLDatabaseToolkit(db=db, llm=llm)\n",
    "\n",
    "agent = create_sql_agent(\n",
    "    llm=llm,\n",
    "    toolkit=toolkit,\n",
    "    agent_type=AgentType.ZERO_SHOT_REACT_DESCRIPTION,\n",
    "    verbose=True,\n",
    ")\n",
    "\n",
    "agent.invoke(\"Give me the 5 directors that have the highest grossing films.\")"
   ]
  }
 ],
 "metadata": {
  "kernelspec": {
   "display_name": "Python 3.10.8 ('env': venv)",
   "language": "python",
   "name": "python3"
  },
  "language_info": {
   "codemirror_mode": {
    "name": "ipython",
    "version": 3
   },
   "file_extension": ".py",
   "mimetype": "text/x-python",
   "name": "python",
   "nbconvert_exporter": "python",
   "pygments_lexer": "ipython3",
   "version": "3.10.8"
  },
  "orig_nbformat": 4,
  "vscode": {
   "interpreter": {
    "hash": "87af29c83299b8411b285c9748d1fce99c27f076b69980a17672a4e8ebfd8c88"
   }
  }
 },
 "nbformat": 4,
 "nbformat_minor": 2
}
