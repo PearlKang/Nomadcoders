{
 "cells": [
  {
   "cell_type": "code",
   "execution_count": 2,
   "metadata": {},
   "outputs": [
    {
     "name": "stderr",
     "output_type": "stream",
     "text": [
      "/Users/ben/Documents/GitHub/Nomadcoders/Program/GPT/fullstack-gpt/env/lib/python3.10/site-packages/pinecone/index.py:4: TqdmWarning: IProgress not found. Please update jupyter and ipywidgets. See https://ipywidgets.readthedocs.io/en/stable/user_install.html\n",
      "  from tqdm.autonotebook import tqdm\n"
     ]
    },
    {
     "name": "stdout",
     "output_type": "stream",
     "text": [
      "1390\n"
     ]
    }
   ],
   "source": [
    "# from langchain_community.document_loaders import CSVLoader\n",
    "# from langchain.text_splitter import RecursiveCharacterTextSplitter\n",
    "# from langchain_openai import OpenAIEmbeddings\n",
    "# from langchain_pinecone import Pinecone\n",
    "\n",
    "# embeddings = OpenAIEmbeddings()\n",
    "\n",
    "# vectorstore = Pinecone.from_existing_ineex(\n",
    "#     \"recipes\",\n",
    "#     embeddings,\n",
    "# )\n",
    "\n",
    "# docs = vectorstore.similarity_search(\"kimchi\")\n",
    "\n",
    "# print(docs)\n",
    "\n",
    "# pinecone.init(\n",
    "#     api_key=os.getenv(\"PINECONE_API_KEY\"),\n",
    "#     environment=\"gcp-starter\",\n",
    "# )\n",
    "\n",
    "# embeddings = OpenAIEmbeddings()\n",
    "\n",
    "# vector_store = Pinecone.from_existing_index(\n",
    "#     \"recipes\",\n",
    "#     embeddings,\n",
    "# )\n",
    "\n",
    "# docs = vector_store.similarity_search(\"tofu\")\n",
    "\n",
    "# docs\n",
    "\n",
    "import pinecone\n",
    "import os\n",
    "from langchain.document_loaders import CSVLoader\n",
    "from langchain.text_splitter import RecursiveCharacterTextSplitter\n",
    "from langchain.embeddings import OpenAIEmbeddings\n",
    "from langchain.vectorstores import Pinecone\n",
    "\n",
    "pinecone.init(\n",
    "    api_key=os.getenv(\"PINECONE_API_KEY\"),\n",
    "    environment=\"gcp-starter\",\n",
    ")\n",
    "\n",
    "splitter = RecursiveCharacterTextSplitter.from_tiktoken_encoder()\n",
    "\n",
    "loader = CSVLoader(\"./recipes.csv\")\n",
    "\n",
    "docs = loader.load_and_split(text_splitter=splitter)\n",
    "\n",
    "print(len(docs))\n",
    "embeddings = OpenAIEmbeddings()\n"
   ]
  }
 ],
 "metadata": {
  "kernelspec": {
   "display_name": "Python 3.10.8 ('env': venv)",
   "language": "python",
   "name": "python3"
  },
  "language_info": {
   "codemirror_mode": {
    "name": "ipython",
    "version": 3
   },
   "file_extension": ".py",
   "mimetype": "text/x-python",
   "name": "python",
   "nbconvert_exporter": "python",
   "pygments_lexer": "ipython3",
   "version": "3.10.8"
  },
  "orig_nbformat": 4,
  "vscode": {
   "interpreter": {
    "hash": "87af29c83299b8411b285c9748d1fce99c27f076b69980a17672a4e8ebfd8c88"
   }
  }
 },
 "nbformat": 4,
 "nbformat_minor": 2
}
