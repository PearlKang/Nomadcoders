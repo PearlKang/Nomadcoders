{
 "cells": [
  {
   "cell_type": "code",
   "execution_count": 4,
   "metadata": {},
   "outputs": [
    {
     "name": "stdout",
     "output_type": "stream",
     "text": [
      "\n",
      "\n",
      "\u001b[1m> Entering new AgentExecutor chain...\u001b[0m\n",
      "\u001b[32;1m\u001b[1;3mAction: sql_db_list_tables\n",
      "Action Input: \u001b[0m\n",
      "Observation: \u001b[38;5;200m\u001b[1;3mdirectors, movies\u001b[0m\n",
      "Thought:\u001b[32;1m\u001b[1;3mI need to check the schema of the \"movies\" and \"directors\" tables to see which columns I can use for my query.\n",
      "Action: sql_db_schema\n",
      "Action Input: movies, directors\u001b[0m\n",
      "Observation: \u001b[33;1m\u001b[1;3m\n",
      "CREATE TABLE directors (\n",
      "\tname TEXT, \n",
      "\tid INTEGER, \n",
      "\tgender INTEGER, \n",
      "\tuid INTEGER, \n",
      "\tdepartment TEXT, \n",
      "\tPRIMARY KEY (id)\n",
      ")\n",
      "\n",
      "/*\n",
      "3 rows from directors table:\n",
      "name\tid\tgender\tuid\tdepartment\n",
      "James Cameron\t4762\t2\t2710\tDirecting\n",
      "Gore Verbinski\t4763\t2\t1704\tDirecting\n",
      "Sam Mendes\t4764\t2\t39\tDirecting\n",
      "*/\n",
      "\n",
      "\n",
      "CREATE TABLE movies (\n",
      "\tid INTEGER, \n",
      "\toriginal_title VARCHAR, \n",
      "\tbudget INTEGER, \n",
      "\tpopularity INTEGER, \n",
      "\trelease_date TEXT, \n",
      "\trevenue INTEGER, \n",
      "\ttitle TEXT, \n",
      "\tvote_average REAL, \n",
      "\tvote_count INTEGER, \n",
      "\toverview TEXT, \n",
      "\ttagline TEXT, \n",
      "\tuid INTEGER, \n",
      "\tdirector_id INTEGER DEFAULT 0 NOT NULL, \n",
      "\tPRIMARY KEY (id)\n",
      ")\n",
      "\n",
      "/*\n",
      "3 rows from movies table:\n",
      "id\toriginal_title\tbudget\tpopularity\trelease_date\trevenue\ttitle\tvote_average\tvote_count\toverview\ttagline\tuid\tdirector_id\n",
      "43597\tAvatar\t237000000\t150\t2009-12-10\t2787965087\tAvatar\t7.2\t11800\tIn the 22nd century, a paraplegic Marine is dispatched to the moon Pandora on a unique mission, but \tEnter the World of Pandora.\t19995\t4762\n",
      "43598\tPirates of the Caribbean: At World's End\t300000000\t139\t2007-05-19\t961000000\tPirates of the Caribbean: At World's End\t6.9\t4500\tCaptain Barbossa, long believed to be dead, has come back to life and is headed to the edge of the E\tAt the end of the world, the adventure begins.\t285\t4763\n",
      "43599\tSpectre\t245000000\t107\t2015-10-26\t880674609\tSpectre\t6.3\t4466\tA cryptic message from Bond’s past sends him on a trail to uncover a sinister organization. While M \tA Plan No One Escapes\t206647\t4764\n",
      "*/\u001b[0m\n",
      "Thought:\u001b[32;1m\u001b[1;3mI need to query the movies table to get the movies with the highest votes and lowest budgets, and then join the directors table to get the name of their directors and their gross revenue.\n",
      "Action: sql_db_query\n",
      "Action Input: SELECT m.original_title, m.budget, m.vote_count, m.revenue, d.name AS director\n",
      "FROM movies m\n",
      "JOIN directors d ON m.director_id = d.id\n",
      "ORDER BY m.vote_count DESC, m.budget ASC\n",
      "LIMIT 10;\u001b[0m\n",
      "Observation: \u001b[36;1m\u001b[1;3m[('Inception', 160000000, 13752, 825532764, 'Christopher Nolan'), ('The Dark Knight', 185000000, 12002, 1004558444, 'Christopher Nolan'), ('Avatar', 237000000, 11800, 2787965087, 'James Cameron'), ('The Avengers', 220000000, 11776, 1519557910, 'Joss Whedon'), ('Deadpool', 58000000, 10995, 783112979, 'Tim Miller'), ('Interstellar', 165000000, 10867, 675120017, 'Christopher Nolan'), ('Django Unchained', 100000000, 10099, 425368238, 'Quentin Tarantino'), ('Guardians of the Galaxy', 170000000, 9742, 773328629, 'James Gunn'), ('The Hunger Games', 75000000, 9455, 691210692, 'Gary Ross'), ('Mad Max: Fury Road', 150000000, 9427, 378858340, 'George Miller')]\u001b[0m\n",
      "Thought:\u001b[32;1m\u001b[1;3mI now know the final answer\n",
      "Final Answer: The movies with the highest votes but the lowest budgets and their directors, along with their gross revenue, are:\n",
      "1. Inception, directed by Christopher Nolan, with a budget of 160,000,000 and a gross revenue of 825,532,764\n",
      "2. The Dark Knight, directed by Christopher Nolan, with a budget of 185,000,000 and a gross revenue of 1,004,558,444\n",
      "3. Avatar, directed by James Cameron, with a budget of 237,000,000 and a gross revenue of 2,787,965,087\n",
      "4. The Avengers, directed by Joss Whedon, with a budget of 220,000,000 and a gross revenue of 1,519,557,910\n",
      "5. Deadpool, directed by Tim Miller, with a budget of 58,000,000 and a gross revenue of 783,112,979\n",
      "6. Interstellar, directed by Christopher Nolan, with a budget of 165,000,000 and a gross revenue of 675,120,017\n",
      "7. Django Unchained, directed by Quentin Tarantino, with a budget of 100,000,000 and a gross revenue of 425,368,238\n",
      "8. Guardians of the Galaxy, directed by James Gunn, with a budget of 170,000,000 and a gross revenue of 773,328,629\n",
      "9. The Hunger Games, directed by Gary Ross, with a budget of 75,000,000 and a gross revenue of 691,210,692\n",
      "10. Mad Max: Fury Road, directed by George Miller, with a budget of 150,000,000 and a gross revenue of 378,858,340\u001b[0m\n",
      "\n",
      "\u001b[1m> Finished chain.\u001b[0m\n"
     ]
    },
    {
     "data": {
      "text/plain": [
       "{'input': 'Give me the movies that have the highest votes but the lowest budgets and give me the name of their directors also include their gross revenue.',\n",
       " 'output': 'The movies with the highest votes but the lowest budgets and their directors, along with their gross revenue, are:\\n1. Inception, directed by Christopher Nolan, with a budget of 160,000,000 and a gross revenue of 825,532,764\\n2. The Dark Knight, directed by Christopher Nolan, with a budget of 185,000,000 and a gross revenue of 1,004,558,444\\n3. Avatar, directed by James Cameron, with a budget of 237,000,000 and a gross revenue of 2,787,965,087\\n4. The Avengers, directed by Joss Whedon, with a budget of 220,000,000 and a gross revenue of 1,519,557,910\\n5. Deadpool, directed by Tim Miller, with a budget of 58,000,000 and a gross revenue of 783,112,979\\n6. Interstellar, directed by Christopher Nolan, with a budget of 165,000,000 and a gross revenue of 675,120,017\\n7. Django Unchained, directed by Quentin Tarantino, with a budget of 100,000,000 and a gross revenue of 425,368,238\\n8. Guardians of the Galaxy, directed by James Gunn, with a budget of 170,000,000 and a gross revenue of 773,328,629\\n9. The Hunger Games, directed by Gary Ross, with a budget of 75,000,000 and a gross revenue of 691,210,692\\n10. Mad Max: Fury Road, directed by George Miller, with a budget of 150,000,000 and a gross revenue of 378,858,340'}"
      ]
     },
     "execution_count": 4,
     "metadata": {},
     "output_type": "execute_result"
    }
   ],
   "source": [
    "from langchain.agents import create_sql_agent, AgentType\n",
    "from langchain.chat_models import ChatOpenAI\n",
    "from langchain.agents.agent_toolkits import SQLDatabaseToolkit\n",
    "from langchain.sql_database import SQLDatabase\n",
    "\n",
    "llm = ChatOpenAI(\n",
    "    temperature=0.1,\n",
    "    model_name=\"gpt-3.5-turbo-1106\",\n",
    ")\n",
    "db = SQLDatabase.from_uri(\"sqlite:///movies.sqlite\")\n",
    "toolkit = SQLDatabaseToolkit(db=db, llm=llm)\n",
    "\n",
    "agent = create_sql_agent(\n",
    "    llm=llm,\n",
    "    toolkit=toolkit,\n",
    "    agent_type=AgentType.ZERO_SHOT_REACT_DESCRIPTION,\n",
    "    verbose=True,\n",
    ")\n",
    "\n",
    "# toolkit.get_tools()\n",
    "agent.invoke(\"Give me the movies that have the highest votes but the lowest budgets and give me the name of their directors also include their gross revenue.\")\n"
   ]
  }
 ],
 "metadata": {
  "kernelspec": {
   "display_name": "Python 3.10.8 ('env': venv)",
   "language": "python",
   "name": "python3"
  },
  "language_info": {
   "codemirror_mode": {
    "name": "ipython",
    "version": 3
   },
   "file_extension": ".py",
   "mimetype": "text/x-python",
   "name": "python",
   "nbconvert_exporter": "python",
   "pygments_lexer": "ipython3",
   "version": "3.10.8"
  },
  "orig_nbformat": 4,
  "vscode": {
   "interpreter": {
    "hash": "87af29c83299b8411b285c9748d1fce99c27f076b69980a17672a4e8ebfd8c88"
   }
  }
 },
 "nbformat": 4,
 "nbformat_minor": 2
}
