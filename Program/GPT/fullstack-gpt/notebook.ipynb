{
 "cells": [
  {
   "cell_type": "code",
   "execution_count": 1,
   "metadata": {},
   "outputs": [
    {
     "name": "stdout",
     "output_type": "stream",
     "text": [
      "\n",
      "\n",
      "\u001b[1m> Entering new AgentExecutor chain...\u001b[0m\n"
     ]
    },
    {
     "name": "stderr",
     "output_type": "stream",
     "text": [
      "Authentication failed for https://api.smith.langchain.com/runs. HTTPError('401 Client Error: Unauthorized for url: https://api.smith.langchain.com/runs', '{\"detail\":\"Using legacy API key. Please generate a new API key.\"}')\n"
     ]
    },
    {
     "name": "stdout",
     "output_type": "stream",
     "text": [
      "\u001b[32;1m\u001b[1;3m\n",
      "Invoking: `StockMarketSymbolSearchTool` with `{'query': 'Cloudflare stock'}`\n",
      "\n",
      "\n",
      "\u001b[0m"
     ]
    },
    {
     "name": "stderr",
     "output_type": "stream",
     "text": [
      "Authentication failed for https://api.smith.langchain.com/runs/3068209d-0087-403e-93fe-3fcb33d7b905. HTTPError('401 Client Error: Unauthorized for url: https://api.smith.langchain.com/runs/3068209d-0087-403e-93fe-3fcb33d7b905', '{\"detail\":\"Using legacy API key. Please generate a new API key.\"}')\n"
     ]
    },
    {
     "name": "stdout",
     "output_type": "stream",
     "text": [
      "\u001b[36;1m\u001b[1;3m[snippet: Get the latest information on Cloudflare Inc (NET), a software company that offers security and web performance solutions. See its stock price, fair value, news, financials, valuation, and more., title: Cloudflare Stock Price - NYSE: NET - Morningstar, link: https://www.morningstar.com/stocks/xnys/net/quote], [snippet: Get the latest information on Cloudflare, Inc. (NET), a leading connectivity cloud company, including its stock price, news, analysis and forecast. See how Cloudflare performs in the market, its financials, metrics, dividends, history and more., title: Cloudflare, Inc. (NET) Stock Price, Quote & News - Stock Analysis, link: https://stockanalysis.com/stocks/net/], [snippet: In the latest market close, Cloudflare (NET) reached $89.52, with a +1.8% movement compared to the previous day. The stock's performance was ahead of the S&P 500's daily gain of 0.16%. Meanwhile ..., title: Cloudflare (NET) Beats Stock Market Upswing: What Investors ... - Nasdaq, link: https://www.nasdaq.com/articles/cloudflare-net-beats-stock-market-upswing-what-investors-need-know], [snippet: Cloudflare shares rose 9.2% after naming a former ServiceNow executive as President of Product & Engineering. The market also reacted positively to the Fed's rate cut and the outlook for Cloudflare's growth., title: Why Is Cloudflare (NET) Stock Rocketing Higher Today - Yahoo Finance, link: https://finance.yahoo.com/news/why-cloudflare-net-stock-rocketing-153707068.html]\u001b[0m\u001b[32;1m\u001b[1;3mCloudflare Inc. has the stock symbol \"NET\" on the New York Stock Exchange (NYSE). \n",
      "\n",
      "Here are some key points about Cloudflare's stock:\n",
      "- In the latest market close, Cloudflare (NET) reached $89.52, with a +1.8% movement compared to the previous day.\n",
      "- Cloudflare's stock performance was ahead of the S&P 500's daily gain of 0.16%.\n",
      "- Cloudflare shares rose 9.2% after naming a former ServiceNow executive as President of Product & Engineering.\n",
      "- The market also reacted positively to the Fed's rate cut and the outlook for Cloudflare's growth.\n",
      "\n",
      "To analyze if Cloudflare's stock is a potential good investment, we can look at factors such as the company's financial performance, growth prospects, industry trends, and market conditions. It's important to conduct a thorough analysis and consider your investment goals and risk tolerance before making any investment decisions.\u001b[0m\n",
      "\n",
      "\u001b[1m> Finished chain.\u001b[0m\n"
     ]
    },
    {
     "data": {
      "text/plain": [
       "{'input': \"Give me information on Cloudflare's stock and help me analyze if it's a potential good investment. Also tell me what symbol does the stock have.\",\n",
       " 'output': 'Cloudflare Inc. has the stock symbol \"NET\" on the New York Stock Exchange (NYSE). \\n\\nHere are some key points about Cloudflare\\'s stock:\\n- In the latest market close, Cloudflare (NET) reached $89.52, with a +1.8% movement compared to the previous day.\\n- Cloudflare\\'s stock performance was ahead of the S&P 500\\'s daily gain of 0.16%.\\n- Cloudflare shares rose 9.2% after naming a former ServiceNow executive as President of Product & Engineering.\\n- The market also reacted positively to the Fed\\'s rate cut and the outlook for Cloudflare\\'s growth.\\n\\nTo analyze if Cloudflare\\'s stock is a potential good investment, we can look at factors such as the company\\'s financial performance, growth prospects, industry trends, and market conditions. It\\'s important to conduct a thorough analysis and consider your investment goals and risk tolerance before making any investment decisions.'}"
      ]
     },
     "execution_count": 1,
     "metadata": {},
     "output_type": "execute_result"
    }
   ],
   "source": [
    "import os\n",
    "import requests\n",
    "from typing import Type\n",
    "from langchain.chat_models import ChatOpenAI\n",
    "from langchain.tools import BaseTool\n",
    "from pydantic import BaseModel, Field\n",
    "from langchain.agents import initialize_agent, AgentType\n",
    "from langchain.tools import DuckDuckGoSearchResults\n",
    "\n",
    "llm=ChatOpenAI(temperature=0.1)\n",
    "\n",
    "alpha_vantage_api_key = os.environ.get(\"ALPHA_VANTAGE_API_KEY\")\n",
    "\n",
    "class StockMarketSymbolSearchToolArgsSchema(BaseModel):\n",
    "    query: str = Field(description=\"The query you will search for\")\n",
    "\n",
    "class StockMarketSymbolSearchTool(BaseTool):\n",
    "    name = \"StockMarketSymbolSearchTool\"\n",
    "    description = \"\"\"\n",
    "    Use this tool to find the stock market symbol for a company.\n",
    "    It takes a query as an argument.\n",
    "    Example query: Stock Market Symbol for Apple Company\n",
    "    \"\"\"\n",
    "    args_schema: Type[StockMarketSymbolSearchToolArgsSchema] = StockMarketSymbolSearchToolArgsSchema\n",
    "\n",
    "    def _run(self, query):\n",
    "        ddg = DuckDuckGoSearchResults()\n",
    "        return ddg.run(query)\n",
    "\n",
    "\n",
    "class CompanyOverviewToolArgsSchema(BaseModel):\n",
    "    symbol : str = Field(\n",
    "        description=\"Stock symbol of the company. Example: AAPL, TSLA\",\n",
    "    )\n",
    "\n",
    "class CompanyOverviewTool(BaseTool):\n",
    "    name=\"CompanyOverview\"\n",
    "    description=\"\"\"\n",
    "    Use this to get an overview of the financials of the company.\n",
    "    You should enter a stock symbol.\n",
    "    \"\"\"\n",
    "    args_schema: Type[CompanyOverviewToolArgsSchema] = CompanyOverviewToolArgsSchema\n",
    "\n",
    "    def _run(self, symbol):\n",
    "        r = requests.get(f\"https://www.alphavantage.co/query?function=OVERVIEW&symbol={symbol}&apikey={alpha_vantage_api_key}\")\n",
    "        return r.json()\n",
    "\n",
    "\n",
    "agent = initialize_agent(\n",
    "    llm=llm,\n",
    "    verbose=True,\n",
    "    agent=AgentType.OPENAI_FUNCTIONS,\n",
    "    handle_parsing_errors=True,\n",
    "    tools = [\n",
    "        StockMarketSymbolSearchTool(),\n",
    "        CompanyOverviewTool(),\n",
    "    ],\n",
    ")\n",
    "\n",
    "# prompt = \"Give me information on Cloudflare's stock and help me analyze if it's a potential good investment. Also tell me what symbol does the stock have.\"\n",
    "prompt = \"Give me financial information on Cloudflare's stock, considering its financials, income statements and stock performance help me analyze if it's a potential good investment.\"\n",
    "\n",
    "agent.invoke(prompt)\n"
   ]
  }
 ],
 "metadata": {
  "kernelspec": {
   "display_name": "Python 3.10.8 ('env': venv)",
   "language": "python",
   "name": "python3"
  },
  "language_info": {
   "codemirror_mode": {
    "name": "ipython",
    "version": 3
   },
   "file_extension": ".py",
   "mimetype": "text/x-python",
   "name": "python",
   "nbconvert_exporter": "python",
   "pygments_lexer": "ipython3",
   "version": "3.10.8"
  },
  "orig_nbformat": 4,
  "vscode": {
   "interpreter": {
    "hash": "87af29c83299b8411b285c9748d1fce99c27f076b69980a17672a4e8ebfd8c88"
   }
  }
 },
 "nbformat": 4,
 "nbformat_minor": 2
}
