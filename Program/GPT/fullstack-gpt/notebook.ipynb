{
 "cells": [
  {
   "cell_type": "code",
   "execution_count": 23,
   "metadata": {},
   "outputs": [
    {
     "ename": "KeyError",
     "evalue": "'question'",
     "output_type": "error",
     "traceback": [
      "\u001b[0;31m---------------------------------------------------------------------------\u001b[0m",
      "\u001b[0;31mKeyError\u001b[0m                                  Traceback (most recent call last)",
      "Cell \u001b[0;32mIn[23], line 74\u001b[0m\n\u001b[1;32m     63\u001b[0m example_selector \u001b[38;5;241m=\u001b[39m RandomExampleSelector(\n\u001b[1;32m     64\u001b[0m     examples\u001b[38;5;241m=\u001b[39mexamples,\n\u001b[1;32m     65\u001b[0m )\n\u001b[1;32m     67\u001b[0m prompt \u001b[38;5;241m=\u001b[39m FewShotPromptTemplate(\n\u001b[1;32m     68\u001b[0m     example_prompt\u001b[38;5;241m=\u001b[39mexample_prompt,\n\u001b[1;32m     69\u001b[0m     example_selector\u001b[38;5;241m=\u001b[39mexample_selector,\n\u001b[1;32m     70\u001b[0m     suffix\u001b[38;5;241m=\u001b[39m\u001b[38;5;124m\"\u001b[39m\u001b[38;5;124mHuman: What do you know about \u001b[39m\u001b[38;5;132;01m{country}\u001b[39;00m\u001b[38;5;124m?\u001b[39m\u001b[38;5;124m\"\u001b[39m,\n\u001b[1;32m     71\u001b[0m     input_variables\u001b[38;5;241m=\u001b[39m[\u001b[38;5;124m\"\u001b[39m\u001b[38;5;124mcountry\u001b[39m\u001b[38;5;124m\"\u001b[39m],\n\u001b[1;32m     72\u001b[0m )\n\u001b[0;32m---> 74\u001b[0m \u001b[43mprompt\u001b[49m\u001b[38;5;241;43m.\u001b[39;49m\u001b[43mformat\u001b[49m\u001b[43m(\u001b[49m\u001b[43mcountry\u001b[49m\u001b[38;5;241;43m=\u001b[39;49m\u001b[38;5;124;43m\"\u001b[39;49m\u001b[38;5;124;43mBrazil\u001b[39;49m\u001b[38;5;124;43m\"\u001b[39;49m\u001b[43m)\u001b[49m\n\u001b[1;32m     76\u001b[0m \u001b[38;5;66;03m# chain = prompt | chat\u001b[39;00m\n\u001b[1;32m     77\u001b[0m \n\u001b[1;32m     78\u001b[0m \u001b[38;5;66;03m# chain.invoke({\u001b[39;00m\n\u001b[1;32m     79\u001b[0m \u001b[38;5;66;03m#     \"country\": \"Germany\"\u001b[39;00m\n\u001b[1;32m     80\u001b[0m \u001b[38;5;66;03m# })\u001b[39;00m\n",
      "File \u001b[0;32m~/Documents/GitHub/Nomadcoders/Program/GPT/fullstack-gpt/env/lib/python3.10/site-packages/langchain/prompts/few_shot.py:145\u001b[0m, in \u001b[0;36mFewShotPromptTemplate.format\u001b[0;34m(self, **kwargs)\u001b[0m\n\u001b[1;32m    143\u001b[0m \u001b[39m# Get the examples to use.\u001b[39;00m\n\u001b[1;32m    144\u001b[0m examples \u001b[39m=\u001b[39m \u001b[39mself\u001b[39m\u001b[39m.\u001b[39m_get_examples(\u001b[39m*\u001b[39m\u001b[39m*\u001b[39mkwargs)\n\u001b[0;32m--> 145\u001b[0m examples \u001b[39m=\u001b[39m [\n\u001b[1;32m    146\u001b[0m     {k: e[k] \u001b[39mfor\u001b[39;00m k \u001b[39min\u001b[39;00m \u001b[39mself\u001b[39m\u001b[39m.\u001b[39mexample_prompt\u001b[39m.\u001b[39minput_variables} \u001b[39mfor\u001b[39;00m e \u001b[39min\u001b[39;00m examples\n\u001b[1;32m    147\u001b[0m ]\n\u001b[1;32m    148\u001b[0m \u001b[39m# Format the examples.\u001b[39;00m\n\u001b[1;32m    149\u001b[0m example_strings \u001b[39m=\u001b[39m [\n\u001b[1;32m    150\u001b[0m     \u001b[39mself\u001b[39m\u001b[39m.\u001b[39mexample_prompt\u001b[39m.\u001b[39mformat(\u001b[39m*\u001b[39m\u001b[39m*\u001b[39mexample) \u001b[39mfor\u001b[39;00m example \u001b[39min\u001b[39;00m examples\n\u001b[1;32m    151\u001b[0m ]\n",
      "File \u001b[0;32m~/Documents/GitHub/Nomadcoders/Program/GPT/fullstack-gpt/env/lib/python3.10/site-packages/langchain/prompts/few_shot.py:146\u001b[0m, in \u001b[0;36m<listcomp>\u001b[0;34m(.0)\u001b[0m\n\u001b[1;32m    143\u001b[0m \u001b[39m# Get the examples to use.\u001b[39;00m\n\u001b[1;32m    144\u001b[0m examples \u001b[39m=\u001b[39m \u001b[39mself\u001b[39m\u001b[39m.\u001b[39m_get_examples(\u001b[39m*\u001b[39m\u001b[39m*\u001b[39mkwargs)\n\u001b[1;32m    145\u001b[0m examples \u001b[39m=\u001b[39m [\n\u001b[0;32m--> 146\u001b[0m     {k: e[k] \u001b[39mfor\u001b[39;00m k \u001b[39min\u001b[39;00m \u001b[39mself\u001b[39m\u001b[39m.\u001b[39mexample_prompt\u001b[39m.\u001b[39minput_variables} \u001b[39mfor\u001b[39;00m e \u001b[39min\u001b[39;00m examples\n\u001b[1;32m    147\u001b[0m ]\n\u001b[1;32m    148\u001b[0m \u001b[39m# Format the examples.\u001b[39;00m\n\u001b[1;32m    149\u001b[0m example_strings \u001b[39m=\u001b[39m [\n\u001b[1;32m    150\u001b[0m     \u001b[39mself\u001b[39m\u001b[39m.\u001b[39mexample_prompt\u001b[39m.\u001b[39mformat(\u001b[39m*\u001b[39m\u001b[39m*\u001b[39mexample) \u001b[39mfor\u001b[39;00m example \u001b[39min\u001b[39;00m examples\n\u001b[1;32m    151\u001b[0m ]\n",
      "File \u001b[0;32m~/Documents/GitHub/Nomadcoders/Program/GPT/fullstack-gpt/env/lib/python3.10/site-packages/langchain/prompts/few_shot.py:146\u001b[0m, in \u001b[0;36m<dictcomp>\u001b[0;34m(.0)\u001b[0m\n\u001b[1;32m    143\u001b[0m \u001b[39m# Get the examples to use.\u001b[39;00m\n\u001b[1;32m    144\u001b[0m examples \u001b[39m=\u001b[39m \u001b[39mself\u001b[39m\u001b[39m.\u001b[39m_get_examples(\u001b[39m*\u001b[39m\u001b[39m*\u001b[39mkwargs)\n\u001b[1;32m    145\u001b[0m examples \u001b[39m=\u001b[39m [\n\u001b[0;32m--> 146\u001b[0m     {k: e[k] \u001b[39mfor\u001b[39;00m k \u001b[39min\u001b[39;00m \u001b[39mself\u001b[39m\u001b[39m.\u001b[39mexample_prompt\u001b[39m.\u001b[39minput_variables} \u001b[39mfor\u001b[39;00m e \u001b[39min\u001b[39;00m examples\n\u001b[1;32m    147\u001b[0m ]\n\u001b[1;32m    148\u001b[0m \u001b[39m# Format the examples.\u001b[39;00m\n\u001b[1;32m    149\u001b[0m example_strings \u001b[39m=\u001b[39m [\n\u001b[1;32m    150\u001b[0m     \u001b[39mself\u001b[39m\u001b[39m.\u001b[39mexample_prompt\u001b[39m.\u001b[39mformat(\u001b[39m*\u001b[39m\u001b[39m*\u001b[39mexample) \u001b[39mfor\u001b[39;00m example \u001b[39min\u001b[39;00m examples\n\u001b[1;32m    151\u001b[0m ]\n",
      "\u001b[0;31mKeyError\u001b[0m: 'question'"
     ]
    }
   ],
   "source": [
    "from langchain.chat_models import ChatOpenAI\n",
    "from langchain.prompts import example_selector\n",
    "from langchain.prompts.few_shot import FewShotPromptTemplate\n",
    "from langchain.callbacks import StreamingStdOutCallbackHandler\n",
    "from langchain.prompts.prompt import PromptTemplate\n",
    "# from langchain.prompts.example_selector import LengthBasedExampleSelector\n",
    "from langchain.prompts.example_selector.base import BaseExampleSelector\n",
    "\n",
    "chat = ChatOpenAI(\n",
    "    temperature=0.1,\n",
    "    streaming=True,\n",
    "    callbacks=[\n",
    "        StreamingStdOutCallbackHandler(),\n",
    "    ],\n",
    ")\n",
    "\n",
    "examples = [\n",
    "    {\n",
    "        \"country\": \"France\",\n",
    "        \"answer\": \"\"\"\n",
    "        Here is what I know:\n",
    "        Capital: Paris\n",
    "        Language: French\n",
    "        Food: Wine and Cheese\n",
    "        Currency: Euro\n",
    "        \"\"\",\n",
    "    },\n",
    "    {\n",
    "        \"country\": \"Italy\",\n",
    "        \"answer\": \"\"\"\n",
    "        I know this:\n",
    "        Capital: Rome\n",
    "        Language: Italian\n",
    "        Food: Pizza and Pasta\n",
    "        Currency: Euro\n",
    "        \"\"\",\n",
    "    },\n",
    "    {\n",
    "        \"country\": \"Greece\",\n",
    "        \"answer\": \"\"\"\n",
    "        I know this:\n",
    "        Capital: Athens\n",
    "        Language: Greek\n",
    "        Food: Souvlaki and Feta Cheese\n",
    "        Currency: Euro\n",
    "        \"\"\",\n",
    "    },\n",
    "]\n",
    "\n",
    "class RandomExampleSelector(BaseExampleSelector):\n",
    "    def __init__(self, examples):\n",
    "        self.examples = examples\n",
    "\n",
    "    def add_example(self, example):\n",
    "        self.examples.append(example)\n",
    "\n",
    "    def select_examples(self, input_variables):\n",
    "        from random import choice\n",
    "        return [choice(self.examples)]\n",
    "\n",
    "example_prompt = PromptTemplate.from_template(\"Human: {question}\\nAI: {answer}\")\n",
    "\n",
    "example_selector = RandomExampleSelector(\n",
    "    examples=examples,\n",
    ")\n",
    "\n",
    "prompt = FewShotPromptTemplate(\n",
    "    example_prompt=example_prompt,\n",
    "    example_selector=example_selector,\n",
    "    suffix=\"Human: What do you know about {country}?\",\n",
    "    input_variables=[\"country\"],\n",
    ")\n",
    "\n",
    "prompt.format(country=\"Brazil\")"
   ]
  }
 ],
 "metadata": {
  "kernelspec": {
   "display_name": "Python 3.10.8 ('env': venv)",
   "language": "python",
   "name": "python3"
  },
  "language_info": {
   "codemirror_mode": {
    "name": "ipython",
    "version": 3
   },
   "file_extension": ".py",
   "mimetype": "text/x-python",
   "name": "python",
   "nbconvert_exporter": "python",
   "pygments_lexer": "ipython3",
   "version": "3.10.8"
  },
  "orig_nbformat": 4,
  "vscode": {
   "interpreter": {
    "hash": "87af29c83299b8411b285c9748d1fce99c27f076b69980a17672a4e8ebfd8c88"
   }
  }
 },
 "nbformat": 4,
 "nbformat_minor": 2
}
